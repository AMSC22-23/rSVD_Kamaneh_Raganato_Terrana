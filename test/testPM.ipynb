{
 "cells": [
  {
   "cell_type": "markdown",
   "metadata": {},
   "source": [
    "Test one iteration of the power method\n",
    "===\n",
    "* A is a random matrix with entries in [-1, 1] with 100 rows and 10 columns"
   ]
  },
  {
   "cell_type": "code",
   "execution_count": 13,
   "metadata": {},
   "outputs": [
    {
     "data": {
      "text/plain": [
       "(100, 10)"
      ]
     },
     "execution_count": 13,
     "metadata": {},
     "output_type": "execute_result"
    }
   ],
   "source": [
    "import scipy.linalg as la\n",
    "import numpy as np\n",
    "import pandas as pd\n",
    "\n",
    "# int m = 100; int n = 10; Mat A = Mat::Random(m, n);\n",
    "A = np.loadtxt('Arandom.csv')\n",
    "# print(A)\n",
    "A.shape"
   ]
  },
  {
   "cell_type": "code",
   "execution_count": 24,
   "metadata": {},
   "outputs": [
    {
     "name": "stdout",
     "output_type": "stream",
     "text": [
      "U shape:  (100, 100)\n",
      "sigma shape:  (10,)\n",
      "VT shape:  (10, 10)\n",
      "sigma:  6.99347202973377\n",
      "\n",
      "\n",
      "First eigenvalue of A^T*A:\n",
      "lambda_lis:  48.90865\n",
      "lambda_numpy:  48.90865103066857\n",
      "lambda_powermethod:  48.908622640900006\n"
     ]
    }
   ],
   "source": [
    "U, sigma, VT = np.linalg.svd(A) # numpy implementation\n",
    "# U, sigma, VT = la.svd(A) # scipy implementation\n",
    "print('U shape: ', U.shape)\n",
    "print('sigma shape: ', sigma.shape)\n",
    "print('VT shape: ', VT.shape)\n",
    "print('sigma: ', sigma[0])\n",
    "\n",
    "# PM2_one_iteration.cpp sigma = 6.99347\n",
    "# numpy implementation  sigma = 6.99347202973377\n",
    "# scipy implementation  sigma = 6.99347202973377\n",
    "# lis implementation   lambda = 48.90865\n",
    "\n",
    "\n",
    "lambda_lis = 48.90865\n",
    "sigma_PM2 = 6.99347\n",
    "lambda_PM2 = sigma_PM2**2\n",
    "lambda_np = sigma[0]**2\n",
    "\n",
    "print('\\n\\nFirst eigenvalue of A^T*A:')\n",
    "print('lambda_lis: ', lambda_lis)\n",
    "print('lambda_numpy: ', lambda_np)\n",
    "print('lambda_powermethod: ', lambda_PM2)\n"
   ]
  },
  {
   "cell_type": "markdown",
   "metadata": {},
   "source": [
    "Test the full SVD\n",
    "===\n",
    "* A is a random matrix with entries in [-1, 1] with 100 rows and 10 columns"
   ]
  },
  {
   "cell_type": "code",
   "execution_count": 28,
   "metadata": {},
   "outputs": [
    {
     "name": "stdout",
     "output_type": "stream",
     "text": [
      "(100, 10)\n",
      "(10,)\n"
     ]
    }
   ],
   "source": [
    "import scipy.linalg as la\n",
    "import numpy as np\n",
    "import pandas as pd\n",
    "\n",
    "# int m = 100; int n = 10; Mat A = Mat::Random(m, n);\n",
    "A = np.loadtxt('Arandom.csv')\n",
    "# print(A)\n",
    "print(A.shape)\n",
    "\n",
    "sigma_PM2 = np.loadtxt('sigma.csv')\n",
    "print(sigma_PM2.shape)"
   ]
  },
  {
   "cell_type": "code",
   "execution_count": 31,
   "metadata": {},
   "outputs": [
    {
     "name": "stdout",
     "output_type": "stream",
     "text": [
      "U shape:  (100, 100)\n",
      "sigma shape:  (10,)\n",
      "VT shape:  (10, 10)\n",
      "\n",
      "\n",
      "sigma_powermethod:  6.99347202960705 \tsigma_numpy:  6.99347202973377\n",
      "sigma_powermethod:  6.74157151082706 \tsigma_numpy:  6.741572414453427\n",
      "sigma_powermethod:  6.54041015684043 \tsigma_numpy:  6.5404092252858845\n",
      "sigma_powermethod:  5.96868194713258 \tsigma_numpy:  5.968681947132582\n",
      "sigma_powermethod:  5.64754804461137 \tsigma_numpy:  5.647548044908942\n",
      "sigma_powermethod:  5.46989012608531 \tsigma_numpy:  5.46989012582626\n",
      "sigma_powermethod:  5.26845157339008 \tsigma_numpy:  5.268451573340056\n",
      "sigma_powermethod:  4.77770750602133 \tsigma_numpy:  4.777707506021332\n",
      "sigma_powermethod:  4.39099100506627 \tsigma_numpy:  4.390991011424072\n",
      "sigma_powermethod:  4.25094127286201 \tsigma_numpy:  4.250941266294745\n"
     ]
    }
   ],
   "source": [
    "U, sigma, VT = np.linalg.svd(A) # numpy implementation\n",
    "# U, sigma, VT = la.svd(A) # scipy implementation\n",
    "print('U shape: ', U.shape)\n",
    "print('sigma shape: ', sigma.shape)\n",
    "print('VT shape: ', VT.shape)\n",
    "\n",
    "print('\\n')\n",
    "for i in range(sigma.shape[0]):\n",
    "    print('sigma_powermethod: ', sigma_PM2[i], '\\tsigma_numpy: ', sigma[i])\n"
   ]
  }
 ],
 "metadata": {
  "kernelspec": {
   "display_name": "Python 3",
   "language": "python",
   "name": "python3"
  },
  "language_info": {
   "codemirror_mode": {
    "name": "ipython",
    "version": 3
   },
   "file_extension": ".py",
   "mimetype": "text/x-python",
   "name": "python",
   "nbconvert_exporter": "python",
   "pygments_lexer": "ipython3",
   "version": "3.10.2"
  },
  "orig_nbformat": 4
 },
 "nbformat": 4,
 "nbformat_minor": 2
}
